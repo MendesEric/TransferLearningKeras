{
  "nbformat": 4,
  "nbformat_minor": 0,
  "metadata": {
    "colab": {
      "name": "CIFAREfficientNet.ipynb",
      "provenance": [],
      "collapsed_sections": [],
      "authorship_tag": "ABX9TyNtSFRVgapkb05XbCsqCq0R",
      "include_colab_link": true
    },
    "kernelspec": {
      "name": "python3",
      "display_name": "Python 3"
    },
    "language_info": {
      "name": "python"
    },
    "accelerator": "GPU"
  },
  "cells": [
    {
      "cell_type": "markdown",
      "metadata": {
        "id": "view-in-github",
        "colab_type": "text"
      },
      "source": [
        "<a href=\"https://colab.research.google.com/github/MendesEric/TransferLearningKeras/blob/main/CIFAR10EfficientNet.ipynb\" target=\"_parent\"><img src=\"https://colab.research.google.com/assets/colab-badge.svg\" alt=\"Open In Colab\"/></a>"
      ]
    },
    {
      "cell_type": "code",
      "execution_count": null,
      "metadata": {
        "id": "TAmgwdm-7Kit"
      },
      "outputs": [],
      "source": [
        "import tensorflow as tf\n",
        "import keras as k\n",
        "from keras import datasets\n",
        "from keras.datasets import cifar10\n",
        "from keras import applications\n",
        "from tensorflow.keras.applications.efficientnet import EfficientNetB0\n",
        "from keras.layers import Dense, LSTM, \\\n",
        "    Flatten, TimeDistributed, Conv2D, Dropout, BatchNormalization\n",
        "from keras import Sequential\n",
        "from tensorflow.keras.optimizers import SGD, Adam\n",
        "from tensorflow.keras.utils import to_categorical\n",
        "from tensorflow.keras.applications.efficientnet import preprocess_input"
      ]
    },
    {
      "cell_type": "code",
      "source": [
        "opt = tf.keras.optimizers.Adam()"
      ],
      "metadata": {
        "id": "rBjYCisr-N7n"
      },
      "execution_count": null,
      "outputs": []
    },
    {
      "cell_type": "code",
      "source": [
        "#importando o dataset direto do keras\n",
        "(x_train, y_train), (x_test, y_test) = k.datasets.cifar10.load_data()\n",
        "#one hot encoding para as 10 classes do cifar10 e pré processamento necessário para MobileNet\n",
        "def processa(x1,x2,y1,y2):\n",
        "  x1 = tf.keras.applications.efficientnet.preprocess_input(x1)\n",
        "  x2 = tf.keras.applications.efficientnet.preprocess_input(x2)\n",
        "  y1 = to_categorical(y1,10)\n",
        "  y2 = to_categorical(y2,10)\n",
        "  return x1,x2,y1,y2\n",
        "\n",
        "x_train, x_test, y_train, y_test = processa(x_train, x_test, y_train, y_test)"
      ],
      "metadata": {
        "id": "epBaXvye9KL0"
      },
      "execution_count": null,
      "outputs": []
    },
    {
      "cell_type": "code",
      "source": [
        "#Como a efficientnet foi treinada com tamanho diferente de imagens (224x224), é necessário realizar um \"upscale\".\n",
        "inputs = k.Input(shape=(32, 32, 3))\n",
        "upscale = k.layers.Lambda(lambda x: tf.image.resize_with_pad(x,\n",
        "                                                    160,\n",
        "                                                    160,\n",
        "                                                    method=tf.image.ResizeMethod.BILINEAR))(inputs)"
      ],
      "metadata": {
        "id": "uEM-TXzI9VSM"
      },
      "execution_count": null,
      "outputs": []
    },
    {
      "cell_type": "code",
      "source": [
        "upscale"
      ],
      "metadata": {
        "colab": {
          "base_uri": "https://localhost:8080/"
        },
        "id": "e8KND4hi9sJK",
        "outputId": "86580779-a97b-4863-b65c-dcc8d2d52746"
      },
      "execution_count": null,
      "outputs": [
        {
          "output_type": "execute_result",
          "data": {
            "text/plain": [
              "<KerasTensor: shape=(None, 160, 160, 3) dtype=float32 (created by layer 'lambda_4')>"
            ]
          },
          "metadata": {},
          "execution_count": 44
        }
      ]
    },
    {
      "cell_type": "code",
      "source": [
        "efficientnet = EfficientNetB0 (\n",
        "               include_top=False,\n",
        "               weights=\"imagenet\",\n",
        "               input_tensor=upscale,\n",
        "               input_shape=(160,160,3),\n",
        "               pooling=max,\n",
        "               classifier_activation=\"softmax\"    \n",
        ")"
      ],
      "metadata": {
        "id": "Y7Z-FGQ69c_Y",
        "colab": {
          "base_uri": "https://localhost:8080/"
        },
        "outputId": "f5a29672-5280-4591-df4b-ad188cdee09e"
      },
      "execution_count": null,
      "outputs": [
        {
          "output_type": "stream",
          "name": "stdout",
          "text": [
            "Downloading data from https://storage.googleapis.com/keras-applications/efficientnetb0_notop.h5\n",
            "16711680/16705208 [==============================] - 0s 0us/step\n",
            "16719872/16705208 [==============================] - 0s 0us/step\n"
          ]
        }
      ]
    },
    {
      "cell_type": "code",
      "source": [
        "out = efficientnet.output\n",
        "out = Flatten()(out)\n",
        "out = BatchNormalization()(out)\n",
        "out = Dense(256, activation='relu')(out)\n",
        "out = Dropout(0.3)(out)\n",
        "out = BatchNormalization()(out)\n",
        "out = Dense(128, activation='relu')(out)\n",
        "out = Dropout(0.3)(out)\n",
        "out = BatchNormalization()(out)\n",
        "out = Dense(64, activation='relu')(out)\n",
        "out = Dropout(0.3)(out)\n",
        "out = Dense(10, activation='softmax')(out)"
      ],
      "metadata": {
        "id": "vaLhOEAY-BV_"
      },
      "execution_count": null,
      "outputs": []
    },
    {
      "cell_type": "code",
      "source": [
        "model = k.models.Model(inputs = inputs, outputs = out)\n",
        "model.compile(optimizer=opt, loss='categorical_crossentropy',  metrics=['accuracy'])"
      ],
      "metadata": {
        "id": "M54VwP2F-IJ9"
      },
      "execution_count": null,
      "outputs": []
    },
    {
      "cell_type": "code",
      "source": [
        "history = model.fit(x_train,y_train, validation_data = (x_test, y_test), epochs = 10, verbose=1)"
      ],
      "metadata": {
        "colab": {
          "base_uri": "https://localhost:8080/"
        },
        "id": "Onykisvo-9W4",
        "outputId": "33d98688-f50b-4b8e-c282-82dd9c01ff74"
      },
      "execution_count": null,
      "outputs": [
        {
          "output_type": "stream",
          "name": "stdout",
          "text": [
            "Epoch 1/10\n",
            "1563/1563 [==============================] - 523s 326ms/step - loss: 0.6763 - accuracy: 0.7954 - val_loss: 0.3795 - val_accuracy: 0.8762\n",
            "Epoch 2/10\n",
            "1563/1563 [==============================] - 507s 325ms/step - loss: 0.4327 - accuracy: 0.8707 - val_loss: 0.2828 - val_accuracy: 0.9085\n",
            "Epoch 3/10\n",
            "1563/1563 [==============================] - 508s 325ms/step - loss: 0.3651 - accuracy: 0.8922 - val_loss: 0.3188 - val_accuracy: 0.9021\n",
            "Epoch 4/10\n",
            "1563/1563 [==============================] - 508s 325ms/step - loss: 0.3146 - accuracy: 0.9065 - val_loss: 0.4013 - val_accuracy: 0.8784\n",
            "Epoch 5/10\n",
            "1563/1563 [==============================] - 528s 338ms/step - loss: 0.2747 - accuracy: 0.9185 - val_loss: 0.3266 - val_accuracy: 0.8980\n",
            "Epoch 6/10\n",
            "1563/1563 [==============================] - 510s 326ms/step - loss: 0.2403 - accuracy: 0.9281 - val_loss: 0.2941 - val_accuracy: 0.9115\n",
            "Epoch 7/10\n",
            "1563/1563 [==============================] - 507s 325ms/step - loss: 0.2198 - accuracy: 0.9357 - val_loss: 0.2885 - val_accuracy: 0.9081\n",
            "Epoch 8/10\n",
            "1563/1563 [==============================] - 508s 325ms/step - loss: 0.1971 - accuracy: 0.9418 - val_loss: 0.2946 - val_accuracy: 0.9159\n",
            "Epoch 9/10\n",
            "1563/1563 [==============================] - 510s 326ms/step - loss: 0.1730 - accuracy: 0.9488 - val_loss: 0.2903 - val_accuracy: 0.9172\n",
            "Epoch 10/10\n",
            "1563/1563 [==============================] - 509s 326ms/step - loss: 0.1596 - accuracy: 0.9534 - val_loss: 0.4017 - val_accuracy: 0.8993\n"
          ]
        }
      ]
    },
    {
      "cell_type": "code",
      "source": [
        "import matplotlib.pyplot as plt\n"
      ],
      "metadata": {
        "id": "XmQKbPB78TJN"
      },
      "execution_count": null,
      "outputs": []
    },
    {
      "cell_type": "code",
      "source": [
        "plt.plot(history.history['accuracy'])\n",
        "plt.plot(history.history['val_accuracy'])\n",
        "plt.title('Acurácia EfficientNet')\n",
        "plt.ylabel('accuracy')\n",
        "plt.xlabel('epoch')\n",
        "plt.legend(['train', 'test'], loc='upper left')\n",
        "plt.show()"
      ],
      "metadata": {
        "colab": {
          "base_uri": "https://localhost:8080/",
          "height": 295
        },
        "id": "-roAWUuT8khk",
        "outputId": "be99e191-93ef-4703-bafa-192ae936d802"
      },
      "execution_count": null,
      "outputs": [
        {
          "output_type": "display_data",
          "data": {
            "image/png": "[encoded data removed]",
            "text/plain": [
              "<Figure size 432x288 with 1 Axes>"
            ]
          },
          "metadata": {
            "needs_background": "light"
          }
        }
      ]
    },
    {
      "cell_type": "code",
      "source": [
        "plt.plot(history.history['loss'])\n",
        "plt.plot(history.history['val_loss'])\n",
        "plt.title('Loss EfficientNet')\n",
        "plt.ylabel('loss')\n",
        "plt.xlabel('epoch')\n",
        "plt.legend(['train', 'test'], loc='upper left')\n",
        "plt.show()"
      ],
      "metadata": {
        "colab": {
          "base_uri": "https://localhost:8080/",
          "height": 295
        },
        "id": "kHDhk1Ku9DEb",
        "outputId": "6faf9cb0-99c2-4391-ebb4-5794a97920f7"
      },
      "execution_count": null,
      "outputs": [
        {
          "output_type": "display_data",
          "data": {
            "image/png": "[encoded data removed]",
            "text/plain": [
              "<Figure size 432x288 with 1 Axes>"
            ]
          },
          "metadata": {
            "needs_background": "light"
          }
        }
      ]
    }
  ]
}