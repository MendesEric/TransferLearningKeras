{
  "cells": [
    {
      "cell_type": "markdown",
      "metadata": {
        "id": "view-in-github",
        "colab_type": "text"
      },
      "source": [
        "<a href=\"https://colab.research.google.com/github/MendesEric/TransferLearningKeras/blob/main/CIFAR10Resnet50.ipynb\" target=\"_parent\"><img src=\"https://colab.research.google.com/assets/colab-badge.svg\" alt=\"Open In Colab\"/></a>"
      ]
    },
    {
      "cell_type": "code",
      "execution_count": null,
      "metadata": {
        "id": "D5UjjEI1_fjy"
      },
      "outputs": [],
      "source": [
        "import tensorflow as tf\n",
        "import keras as k\n",
        "from keras import datasets\n",
        "from keras.datasets import cifar10\n",
        "from keras import applications\n",
        "from tensorflow.keras.applications.resnet50 import ResNet50\n",
        "from keras.layers import Dense, LSTM, \\\n",
        "    Flatten, TimeDistributed, Conv2D, Dropout\n",
        "from keras import Sequential\n",
        "from tensorflow.keras.optimizers import SGD, Adam\n",
        "from tensorflow.keras.utils import to_categorical\n",
        "from tensorflow.keras.applications.resnet50 import preprocess_input\n",
        "\n",
        "\n",
        "\n"
      ]
    },
    {
      "cell_type": "code",
      "execution_count": null,
      "metadata": {
        "id": "_4dZKNb2lW9_"
      },
      "outputs": [],
      "source": [
        "#importando o dataset direto do keras\n",
        "(x_train, y_train), (x_test, y_test) = k.datasets.cifar10.load_data()\n",
        "#one hot encoding para as 10 classes do cifar10\n",
        "y_train = to_categorical(y_train, 10)\n",
        "y_test = to_categorical(y_test, 10)\n",
        "#pré processamento necessário para resnet50\n",
        "x_train = tf.keras.applications.resnet50.preprocess_input(x_train)\n",
        "x_test = tf.keras.applications.resnet50.preprocess_input(x_test)"
      ]
    },
    {
      "cell_type": "code",
      "source": [
        "#Como a resnet50 foi treinada com tamanho diferente de imagens (224x224), é necessário realizar um \"upscale\".\n",
        "inputs = k.Input(shape=(32, 32, 3))\n",
        "upscale = k.layers.Lambda(lambda x: tf.image.resize_with_pad(x,\n",
        "                                                    160,\n",
        "                                                    160,\n",
        "                                                    method=tf.image.ResizeMethod.BILINEAR))(inputs)\n"
      ],
      "metadata": {
        "id": "D8076WnhebDf"
      },
      "execution_count": null,
      "outputs": []
    },
    {
      "cell_type": "code",
      "execution_count": null,
      "metadata": {
        "id": "3migft5cATeq"
      },
      "outputs": [],
      "source": [
        "resnet = ResNet50(include_top=False,\n",
        "                   input_shape=(160,160,3),\n",
        "                   input_tensor=upscale,\n",
        "                   pooling='max',\n",
        "                   weights='imagenet')\n",
        "# for layer in resnet.layers:\n",
        "#  layer.trainable=False\n",
        "out = resnet.output\n",
        "out = k.layers.Flatten()(out)\n",
        "out = k.layers.BatchNormalization()(out)\n",
        "out = k.layers.Dense(256, activation='relu')(out)\n",
        "out = k.layers.Dropout(0.3)(out)\n",
        "out = k.layers.BatchNormalization()(out)\n",
        "out = k.layers.Dense(128, activation='relu')(out)\n",
        "out = k.layers.Dropout(0.3)(out)\n",
        "out = k.layers.BatchNormalization()(out)\n",
        "out = k.layers.Dense(64, activation='relu')(out)\n",
        "out = k.layers.Dropout(0.3)(out)\n",
        "out = k.layers.Dense(10, activation='softmax')(out)"
      ]
    },
    {
      "cell_type": "code",
      "execution_count": null,
      "metadata": {
        "id": "oe9opnCVBUiW"
      },
      "outputs": [],
      "source": [
        "model = k.models.Model(inputs=inputs, outputs=out)\n",
        "model.compile(optimizer='Adam', loss='categorical_crossentropy',  metrics=['accuracy'])"
      ]
    },
    {
      "cell_type": "code",
      "execution_count": null,
      "metadata": {
        "colab": {
          "base_uri": "https://localhost:8080/"
        },
        "id": "NWQU4uR0px7y",
        "outputId": "16b81b69-84d9-481c-d936-fa928ff9a7fb"
      },
      "outputs": [
        {
          "output_type": "stream",
          "name": "stdout",
          "text": [
            "Epoch 1/10\n",
            "1563/1563 [==============================] - 335s 211ms/step - loss: 1.2071 - accuracy: 0.5936 - val_loss: 1.0301 - val_accuracy: 0.6571\n",
            "Epoch 2/10\n",
            "1563/1563 [==============================] - 328s 210ms/step - loss: 0.7595 - accuracy: 0.7576 - val_loss: 0.7013 - val_accuracy: 0.7632\n",
            "Epoch 3/10\n",
            "1563/1563 [==============================] - 331s 212ms/step - loss: 0.6091 - accuracy: 0.8081 - val_loss: 0.5861 - val_accuracy: 0.8065\n",
            "Epoch 4/10\n",
            "1563/1563 [==============================] - 327s 209ms/step - loss: 0.5166 - accuracy: 0.8361 - val_loss: 0.5555 - val_accuracy: 0.8164\n",
            "Epoch 5/10\n",
            "1563/1563 [==============================] - 327s 209ms/step - loss: 0.4489 - accuracy: 0.8578 - val_loss: 0.4695 - val_accuracy: 0.8466\n",
            "Epoch 6/10\n",
            "1563/1563 [==============================] - 326s 209ms/step - loss: 0.3715 - accuracy: 0.8818 - val_loss: 0.4378 - val_accuracy: 0.8529\n",
            "Epoch 7/10\n",
            "1563/1563 [==============================] - 325s 208ms/step - loss: 0.3179 - accuracy: 0.8987 - val_loss: 0.4511 - val_accuracy: 0.8556\n",
            "Epoch 8/10\n",
            "1563/1563 [==============================] - 326s 208ms/step - loss: 0.2621 - accuracy: 0.9189 - val_loss: 0.4175 - val_accuracy: 0.8676\n",
            "Epoch 9/10\n",
            "1563/1563 [==============================] - 326s 209ms/step - loss: 0.2197 - accuracy: 0.9309 - val_loss: 0.4759 - val_accuracy: 0.8552\n",
            "Epoch 10/10\n",
            "1563/1563 [==============================] - 324s 207ms/step - loss: 0.1957 - accuracy: 0.9405 - val_loss: 0.3867 - val_accuracy: 0.8806\n"
          ]
        }
      ],
      "source": [
        "history = model.fit(x_train,y_train, validation_data = (x_test, y_test), epochs = 10, verbose=1)"
      ]
    },
    {
      "cell_type": "code",
      "execution_count": null,
      "metadata": {
        "colab": {
          "base_uri": "https://localhost:8080/"
        },
        "id": "vb6zlNLwwi5l",
        "outputId": "14174dd7-f6bb-4013-a535-1219d111d2a1"
      },
      "outputs": [
        {
          "output_type": "stream",
          "name": "stdout",
          "text": [
            "313/313 [==============================] - 16s 52ms/step - loss: 0.3867 - accuracy: 0.8806\n"
          ]
        },
        {
          "output_type": "execute_result",
          "data": {
            "text/plain": [
              "[0.3866686224937439, 0.8805999755859375]"
            ]
          },
          "metadata": {},
          "execution_count": 31
        }
      ],
      "source": [
        "model.evaluate(x_test,y_test)"
      ]
    },
    {
      "cell_type": "code",
      "execution_count": null,
      "metadata": {
        "id": "-bz2TH3-wmCz"
      },
      "outputs": [],
      "source": [
        "import matplotlib.pyplot as plt"
      ]
    },
    {
      "cell_type": "code",
      "source": [
        "plt.plot(history.history['accuracy'])\n",
        "plt.plot(history.history['val_accuracy'])\n",
        "plt.title('Acurácia Resnet50')\n",
        "plt.ylabel('accuracy')\n",
        "plt.xlabel('epoch')\n",
        "plt.legend(['train', 'test'], loc='upper left')\n",
        "plt.show()"
      ],
      "metadata": {
        "colab": {
          "base_uri": "https://localhost:8080/",
          "height": 295
        },
        "id": "5W5sEwvY6lt3",
        "outputId": "df18605b-c580-4cf1-f74f-87d5c22f8a26"
      },
      "execution_count": null,
      "outputs": [
        {
          "output_type": "display_data",
          "data": {
            "image/png": "[encoded data removed]",
            "text/plain": [
              "<Figure size 432x288 with 1 Axes>"
            ]
          },
          "metadata": {
            "needs_background": "light"
          }
        }
      ]
    },
    {
      "cell_type": "code",
      "source": [
        "plt.plot(history.history['loss'])\n",
        "plt.plot(history.history['val_loss'])\n",
        "plt.title('Loss Resnet50')\n",
        "plt.ylabel('loss')\n",
        "plt.xlabel('epoch')\n",
        "plt.legend(['train', 'test'], loc='upper left')\n",
        "plt.show()"
      ],
      "metadata": {
        "colab": {
          "base_uri": "https://localhost:8080/",
          "height": 295
        },
        "id": "FtgFx90G7AGM",
        "outputId": "04ee0210-3de7-4f64-ad73-8581a3a5fbb0"
      },
      "execution_count": null,
      "outputs": [
        {
          "output_type": "display_data",
          "data": {
            "image/png": "[encoded data removed]",
            "text/plain": [
              "<Figure size 432x288 with 1 Axes>"
            ]
          },
          "metadata": {
            "needs_background": "light"
          }
        }
      ]
    }
  ],
  "metadata": {
    "accelerator": "GPU",
    "colab": {
      "collapsed_sections": [],
      "name": "CIFAR10Resnet50.ipynb",
      "provenance": [],
      "authorship_tag": "ABX9TyPMTTg2AmSQkSPrWAS4ig9H",
      "include_colab_link": true
    },
    "kernelspec": {
      "display_name": "Python 3",
      "name": "python3"
    },
    "language_info": {
      "name": "python"
    }
  },
  "nbformat": 4,
  "nbformat_minor": 0
}