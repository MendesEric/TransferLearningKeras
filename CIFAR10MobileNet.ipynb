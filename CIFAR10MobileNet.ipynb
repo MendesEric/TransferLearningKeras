{
  "nbformat": 4,
  "nbformat_minor": 0,
  "metadata": {
    "colab": {
      "name": "CIFAR10MobileNet.ipynb",
      "provenance": [],
      "collapsed_sections": [],
      "authorship_tag": "ABX9TyPubA8NH18lOR/JFaH7sTD6",
      "include_colab_link": true
    },
    "kernelspec": {
      "name": "python3",
      "display_name": "Python 3"
    },
    "language_info": {
      "name": "python"
    },
    "accelerator": "GPU"
  },
  "cells": [
    {
      "cell_type": "markdown",
      "metadata": {
        "id": "view-in-github",
        "colab_type": "text"
      },
      "source": [
        "<a href=\"https://colab.research.google.com/github/MendesEric/TransferLearningKeras/blob/main/CIFAR10MobileNet.ipynb\" target=\"_parent\"><img src=\"https://colab.research.google.com/assets/colab-badge.svg\" alt=\"Open In Colab\"/></a>"
      ]
    },
    {
      "cell_type": "code",
      "source": [
        "import tensorflow as tf\n",
        "import keras as k\n",
        "from keras import datasets\n",
        "from keras.datasets import cifar10\n",
        "from keras import applications\n",
        "from tensorflow.keras.applications.mobilenet import MobileNet\n",
        "from keras.layers import Dense, LSTM, \\\n",
        "    Flatten, TimeDistributed, Conv2D, Dropout, BatchNormalization\n",
        "from keras import Sequential\n",
        "from tensorflow.keras.optimizers import SGD, Adam\n",
        "from tensorflow.keras.utils import to_categorical\n",
        "from tensorflow.keras.applications.mobilenet import preprocess_input"
      ],
      "metadata": {
        "id": "8qR4k2AGWWv4"
      },
      "execution_count": null,
      "outputs": []
    },
    {
      "cell_type": "code",
      "source": [
        "#importando o dataset direto do keras\n",
        "(x_train, y_train), (x_test, y_test) = k.datasets.cifar10.load_data()\n",
        "#one hot encoding para as 10 classes do cifar10 e pré processamento necessário para MobileNet\n",
        "def processa(x1,x2,y1,y2):\n",
        "  x1 = tf.keras.applications.mobilenet.preprocess_input(x1)\n",
        "  x2 = tf.keras.applications.mobilenet.preprocess_input(x2)\n",
        "  y1 = to_categorical(y1,10)\n",
        "  y2 = to_categorical(y2,10)\n",
        "  return x1,x2,y1,y2\n",
        "\n",
        "x_train, x_test, y_train, y_test = processa(x_train, x_test, y_train, y_test)"
      ],
      "metadata": {
        "colab": {
          "base_uri": "https://localhost:8080/"
        },
        "id": "KumGl5g5Y1c3",
        "outputId": "1f96e0d0-53a2-4da9-e478-0d0f39ba8690"
      },
      "execution_count": null,
      "outputs": [
        {
          "output_type": "stream",
          "name": "stdout",
          "text": [
            "Downloading data from https://www.cs.toronto.edu/~kriz/cifar-10-python.tar.gz\n",
            "170500096/170498071 [==============================] - 3s 0us/step\n",
            "170508288/170498071 [==============================] - 3s 0us/step\n"
          ]
        }
      ]
    },
    {
      "cell_type": "code",
      "source": [
        "#Como a mobilenet foi treinada com tamanho diferente de imagens (224x224), é necessário realizar um \"upscale\".\n",
        "inputs = k.Input(shape=(32, 32, 3))\n",
        "upscale = k.layers.Lambda(lambda x: tf.image.resize_with_pad(x,\n",
        "                                                    160,\n",
        "                                                    160,\n",
        "                                                    method=tf.image.ResizeMethod.BILINEAR))(inputs)"
      ],
      "metadata": {
        "id": "WRHlQg-RZ7Qz"
      },
      "execution_count": null,
      "outputs": []
    },
    {
      "cell_type": "code",
      "source": [
        "mobilenet = MobileNet(\n",
        "            input_shape=(160,160,3),\n",
        "            input_tensor = upscale,\n",
        "            alpha=1.0,\n",
        "            depth_multiplier=1,\n",
        "            dropout=0.001,\n",
        "            include_top=False,\n",
        "            weights=\"imagenet\",\n",
        "            pooling=max,\n",
        "            classifier_activation=\"softmax\",\n",
        "    \n",
        ")"
      ],
      "metadata": {
        "colab": {
          "base_uri": "https://localhost:8080/"
        },
        "id": "K742e38saP-t",
        "outputId": "8974f795-6d5b-49cd-f538-e39b73c85f79"
      },
      "execution_count": null,
      "outputs": [
        {
          "output_type": "stream",
          "name": "stdout",
          "text": [
            "Downloading data from https://storage.googleapis.com/tensorflow/keras-applications/mobilenet/mobilenet_1_0_160_tf_no_top.h5\n",
            "17227776/17225924 [==============================] - 0s 0us/step\n",
            "17235968/17225924 [==============================] - 0s 0us/step\n"
          ]
        }
      ]
    },
    {
      "cell_type": "code",
      "source": [
        "out = mobilenet.output\n",
        "out = Flatten()(out)\n",
        "out = BatchNormalization()(out)\n",
        "out = Dense(256, activation='relu')(out)\n",
        "out = Dropout(0.3)(out)\n",
        "out = BatchNormalization()(out)\n",
        "out = Dense(128, activation='relu')(out)\n",
        "out = Dropout(0.3)(out)\n",
        "out = BatchNormalization()(out)\n",
        "out = Dense(64, activation='relu')(out)\n",
        "out = Dropout(0.3)(out)\n",
        "out = Dense(10, activation='softmax')(out)"
      ],
      "metadata": {
        "id": "Wr7IeBwFcxPX"
      },
      "execution_count": null,
      "outputs": []
    },
    {
      "cell_type": "code",
      "source": [
        "model = k.models.Model(inputs = inputs, outputs = out)\n",
        "model.compile(optimizer='Adam', loss='categorical_crossentropy',  metrics=['accuracy'])"
      ],
      "metadata": {
        "id": "nDztAzTTdY8C"
      },
      "execution_count": null,
      "outputs": []
    },
    {
      "cell_type": "code",
      "source": [
        "history = model.fit(x_train,y_train, validation_data = (x_test, y_test), epochs = 10, verbose=1)"
      ],
      "metadata": {
        "colab": {
          "base_uri": "https://localhost:8080/"
        },
        "id": "KIP3emOId6QR",
        "outputId": "e67a7461-a9f5-4a52-dfaf-377b40d8b683"
      },
      "execution_count": null,
      "outputs": [
        {
          "output_type": "stream",
          "name": "stdout",
          "text": [
            "Epoch 1/10\n",
            "1563/1563 [==============================] - 307s 185ms/step - loss: 0.7582 - accuracy: 0.7655 - val_loss: 0.4982 - val_accuracy: 0.8347\n",
            "Epoch 2/10\n",
            "1563/1563 [==============================] - 286s 183ms/step - loss: 0.4932 - accuracy: 0.8506 - val_loss: 0.4521 - val_accuracy: 0.8511\n",
            "Epoch 3/10\n",
            "1563/1563 [==============================] - 286s 183ms/step - loss: 0.4059 - accuracy: 0.8753 - val_loss: 0.5015 - val_accuracy: 0.8473\n",
            "Epoch 4/10\n",
            "1563/1563 [==============================] - 293s 188ms/step - loss: 0.3495 - accuracy: 0.8933 - val_loss: 0.3216 - val_accuracy: 0.8938\n",
            "Epoch 5/10\n",
            "1563/1563 [==============================] - 294s 188ms/step - loss: 0.3050 - accuracy: 0.9056 - val_loss: 0.3513 - val_accuracy: 0.8883\n",
            "Epoch 6/10\n",
            "1563/1563 [==============================] - 286s 183ms/step - loss: 0.2634 - accuracy: 0.9190 - val_loss: 0.3082 - val_accuracy: 0.8988\n",
            "Epoch 7/10\n",
            "1563/1563 [==============================] - 293s 188ms/step - loss: 0.2253 - accuracy: 0.9320 - val_loss: 0.3540 - val_accuracy: 0.8873\n",
            "Epoch 8/10\n",
            "1563/1563 [==============================] - 285s 183ms/step - loss: 0.2012 - accuracy: 0.9388 - val_loss: 0.2814 - val_accuracy: 0.9112\n",
            "Epoch 9/10\n",
            "1563/1563 [==============================] - 285s 182ms/step - loss: 0.1800 - accuracy: 0.9456 - val_loss: 0.3058 - val_accuracy: 0.9039\n",
            "Epoch 10/10\n",
            "1563/1563 [==============================] - 285s 182ms/step - loss: 0.1641 - accuracy: 0.9507 - val_loss: 0.3016 - val_accuracy: 0.9117\n"
          ]
        }
      ]
    },
    {
      "cell_type": "code",
      "source": [
        "model.evaluate(x_test,y_test)"
      ],
      "metadata": {
        "colab": {
          "base_uri": "https://localhost:8080/"
        },
        "id": "buIYEtKFqR54",
        "outputId": "c61e632c-42cb-4e1f-eca7-d4a189bcde81"
      },
      "execution_count": null,
      "outputs": [
        {
          "output_type": "stream",
          "name": "stdout",
          "text": [
            "313/313 [==============================] - 15s 47ms/step - loss: 0.3016 - accuracy: 0.9117\n"
          ]
        },
        {
          "output_type": "execute_result",
          "data": {
            "text/plain": [
              "[0.30163252353668213, 0.9117000102996826]"
            ]
          },
          "metadata": {},
          "execution_count": 11
        }
      ]
    },
    {
      "cell_type": "code",
      "source": [
        "import matplotlib.pyplot as plt"
      ],
      "metadata": {
        "id": "752lCopHpS9a"
      },
      "execution_count": null,
      "outputs": []
    },
    {
      "cell_type": "code",
      "source": [
        "plt.plot(history.history['accuracy'])\n",
        "plt.plot(history.history['val_accuracy'])\n",
        "plt.title('Acurácia MobileNet')\n",
        "plt.ylabel('accuracy')\n",
        "plt.xlabel('epoch')\n",
        "plt.legend(['train', 'test'], loc='upper left')\n",
        "plt.show()"
      ],
      "metadata": {
        "colab": {
          "base_uri": "https://localhost:8080/",
          "height": 295
        },
        "id": "1HxSJJr2pYvU",
        "outputId": "dfcad4ee-2482-4b2f-ed46-2e6af667c281"
      },
      "execution_count": null,
      "outputs": [
        {
          "output_type": "display_data",
          "data": {
            "image/png": "[encoded data removed]",
            "text/plain": [
              "<Figure size 432x288 with 1 Axes>"
            ]
          },
          "metadata": {
            "needs_background": "light"
          }
        }
      ]
    },
    {
      "cell_type": "code",
      "source": [
        "plt.plot(history.history['loss'])\n",
        "plt.plot(history.history['val_loss'])\n",
        "plt.title('Loss MobileNet')\n",
        "plt.ylabel('loss')\n",
        "plt.xlabel('epoch')\n",
        "plt.legend(['train', 'test'], loc='upper left')\n",
        "plt.show()"
      ],
      "metadata": {
        "colab": {
          "base_uri": "https://localhost:8080/",
          "height": 295
        },
        "id": "rL_qII0gpc7T",
        "outputId": "65e86fa2-0200-4547-e2ce-55264498f853"
      },
      "execution_count": null,
      "outputs": [
        {
          "output_type": "display_data",
          "data": {
            "image/png": "[encoded data removed]",
            "text/plain": [
              "<Figure size 432x288 with 1 Axes>"
            ]
          },
          "metadata": {
            "needs_background": "light"
          }
        }
      ]
    }
  ]
}